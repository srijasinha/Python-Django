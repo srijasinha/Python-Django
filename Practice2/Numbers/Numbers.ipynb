{
 "cells": [
  {
   "cell_type": "code",
   "execution_count": 10,
   "id": "428492de-657d-4f5b-82c4-41b73dd8d0b1",
   "metadata": {},
   "outputs": [
    {
     "name": "stdout",
     "output_type": "stream",
     "text": [
      "Area of football field is:  4489.599999999999\n"
     ]
    }
   ],
   "source": [
    "#1. You have a football field that is 92 meters long and 48.8 meters wide. Find out the total area using Python and print it\n",
    "\n",
    "Length = 92\n",
    "Width = 48.8\n",
    "Area = Length * Width\n",
    "print(\"Area of football field is: \", Area)"
   ]
  },
  {
   "cell_type": "code",
   "execution_count": 17,
   "id": "10c6f015-993e-4d88-844e-17b5231c7b48",
   "metadata": {},
   "outputs": [
    {
     "name": "stdout",
     "output_type": "stream",
     "text": [
      "Shopkeeper give me back: 6.59\n"
     ]
    }
   ],
   "source": [
    "#2. You bought 9 packets of potato chips from a store. Each packet costs 1.49 dollars and you gave the shopkeeper 20 dollars.\n",
    "#Find out using Python, how many dollars is the shopkeeper going to give you back.\n",
    "Potato_chips = 9\n",
    "cost_price = 9*1.49\n",
    "Money_to_shopkeeper = 20\n",
    "Money_paid = Money_to_shopkeeper-cost_price\n",
    "print(\"Shopkeeper give me back:\", Money_paid)"
   ]
  },
  {
   "cell_type": "code",
   "execution_count": 24,
   "id": "ee0fb1a4-9ec5-49ed-99f1-096b1d90bd23",
   "metadata": {},
   "outputs": [
    {
     "name": "stdout",
     "output_type": "stream",
     "text": [
      "total cost for bathroom tiles replacement :  15125.0\n"
     ]
    }
   ],
   "source": [
    "#You want to replace tiles in your bathroom which is exactly square and 5.5 feet is its length. If tiles cost 500 rs per square foot, \n",
    "#how much will be the total cost to replace all tiles. Calculate and print the cost using python\n",
    "#  Hint: Use power operator (**) to find the area of a square\n",
    "\n",
    "length = 5.5\n",
    "area_of_tiles = length ** 2\n",
    "tiles_cost = 500 * area_of_tiles\n",
    "print(\"total cost for bathroom tiles replacement : \",tiles_cost)"
   ]
  },
  {
   "cell_type": "code",
   "execution_count": 26,
   "id": "3c74dbf3-3a73-42b8-a98b-5fb38a97f5d2",
   "metadata": {},
   "outputs": [
    {
     "name": "stdout",
     "output_type": "stream",
     "text": [
      "Binary of number 17 is: 10001\n"
     ]
    }
   ],
   "source": [
    "# 4. Print binary representation of number 17\n",
    "num=17\n",
    "print('Binary of number 17 is:',format(num,'b'))"
   ]
  }
 ],
 "metadata": {
  "kernelspec": {
   "display_name": "Python 3 (ipykernel)",
   "language": "python",
   "name": "python3"
  },
  "language_info": {
   "codemirror_mode": {
    "name": "ipython",
    "version": 3
   },
   "file_extension": ".py",
   "mimetype": "text/x-python",
   "name": "python",
   "nbconvert_exporter": "python",
   "pygments_lexer": "ipython3",
   "version": "3.12.0"
  }
 },
 "nbformat": 4,
 "nbformat_minor": 5
}
