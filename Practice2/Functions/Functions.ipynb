{
 "cells": [
  {
   "cell_type": "code",
   "execution_count": 12,
   "id": "5d6fc266-cf2a-4b19-8a0f-d50ceaf34d37",
   "metadata": {},
   "outputs": [
    {
     "name": "stdout",
     "output_type": "stream",
     "text": [
      "The radius is 4\n",
      "The height is 2\n"
     ]
    },
    {
     "data": {
      "text/plain": [
       "('The ara of cylinder', 100.48)"
      ]
     },
     "execution_count": 12,
     "metadata": {},
     "output_type": "execute_result"
    }
   ],
   "source": [
    "#To find area of cylinder\n",
    "def cylinder_volume(radius,height =2):\n",
    "    print(\"The radius is\",radius)\n",
    "    print(\"The height is\",height)\n",
    "    area = 3.14*(radius**2)* height\n",
    "    return(\"The ara of cylinder\", area)\n",
    "\n",
    "r = 4\n",
    "cylinder_volume(radius = r)"
   ]
  },
  {
   "cell_type": "code",
   "execution_count": 23,
   "id": "3629b602-05d1-40c7-97c6-f8f3cd0c7f34",
   "metadata": {},
   "outputs": [
    {
     "name": "stdout",
     "output_type": "stream",
     "text": [
      "The total expense 95\n",
      "The total expense 146\n"
     ]
    }
   ],
   "source": [
    "# Calculate expense sum for two lists without function\n",
    "bharat_expenses = [20,30,45]\n",
    "bilal_expenses = [45,67,34]\n",
    "\n",
    "total = 0\n",
    "for i in bharat_expenses:\n",
    "     total+=i\n",
    "print(\"The total expense\" ,total)\n",
    "\n",
    "total = 0\n",
    "for i in bilal_expenses:\n",
    "     total+=i\n",
    "print(\"The total expense\" ,total)\n"
   ]
  },
  {
   "cell_type": "code",
   "execution_count": 24,
   "id": "d30788c5-4d4f-4dfe-9934-428e25632514",
   "metadata": {},
   "outputs": [
    {
     "name": "stdout",
     "output_type": "stream",
     "text": [
      "Bharat's total: 95\n",
      "Bilal's total: 146\n"
     ]
    }
   ],
   "source": [
    "# Calculate expense sum for two lists by using a function\n",
    "def find_total(exp):\n",
    "    total = 0\n",
    "    for i in exp:\n",
    "        total+=i\n",
    "    return total\n",
    "    \n",
    "bharat_expenses = [20,30,45]\n",
    "bilal_expenses = [45,67,34]\n",
    "\n",
    "bharat_total=find_total(bharat_expenses)\n",
    "print(\"Bharat's total:\",bharat_total)\n",
    "\n",
    "bilal_total=find_total(bilal_expenses)\n",
    "print(\"Bilal's total:\",bilal_total)\n"
   ]
  },
  {
   "cell_type": "code",
   "execution_count": null,
   "id": "fc7e1d5e-162d-4c10-9fce-f70d803c1cc1",
   "metadata": {},
   "outputs": [],
   "source": []
  }
 ],
 "metadata": {
  "kernelspec": {
   "display_name": "Python 3 (ipykernel)",
   "language": "python",
   "name": "python3"
  },
  "language_info": {
   "codemirror_mode": {
    "name": "ipython",
    "version": 3
   },
   "file_extension": ".py",
   "mimetype": "text/x-python",
   "name": "python",
   "nbconvert_exporter": "python",
   "pygments_lexer": "ipython3",
   "version": "3.12.0"
  }
 },
 "nbformat": 4,
 "nbformat_minor": 5
}
