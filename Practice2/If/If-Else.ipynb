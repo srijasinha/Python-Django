{
 "cells": [
  {
   "cell_type": "code",
   "execution_count": 1,
   "id": "7601b2a7-9be8-4951-9a96-d8b2ad2e1513",
   "metadata": {},
   "outputs": [
    {
     "name": "stdin",
     "output_type": "stream",
     "text": [
      "Enter number 2\n"
     ]
    },
    {
     "name": "stdout",
     "output_type": "stream",
     "text": [
      "The number is even\n"
     ]
    }
   ],
   "source": [
    "# To find odd and even humber\n",
    "num = int(input(\"Enter number\"))\n",
    "if num%2 == 0:\n",
    "    print(\"The number is even\")\n",
    "else:\n",
    "    print(\"The number is odd\")\n"
   ]
  },
  {
   "cell_type": "code",
   "execution_count": 2,
   "id": "12bb92c5-624b-4dca-8ac9-08cffa6ba049",
   "metadata": {},
   "outputs": [
    {
     "name": "stdin",
     "output_type": "stream",
     "text": [
      "Enter number 354\n"
     ]
    },
    {
     "name": "stdout",
     "output_type": "stream",
     "text": [
      "The number is not assigned\n"
     ]
    }
   ],
   "source": [
    "num = int(input(\"Enter number\"))\n",
    "if num == 2:\n",
    "    print(\"The number is assigned\")\n",
    "else:\n",
    "    print(\"The number is not assigned\")"
   ]
  },
  {
   "cell_type": "code",
   "execution_count": 3,
   "id": "83ed1d9f-bb7b-4965-97f7-44b4702d808d",
   "metadata": {},
   "outputs": [
    {
     "name": "stdin",
     "output_type": "stream",
     "text": [
      "Enter number 534\n"
     ]
    },
    {
     "name": "stdout",
     "output_type": "stream",
     "text": [
      "The number is not equal too\n"
     ]
    }
   ],
   "source": [
    "num = int(input(\"Enter number\"))\n",
    "if num != 2:\n",
    "    print(\"The number is not equal too\")\n",
    "else:\n",
    "    print(\"The number is equal too\")"
   ]
  },
  {
   "cell_type": "code",
   "execution_count": 4,
   "id": "9dbb00d4-07d8-4924-be1f-209680425f97",
   "metadata": {},
   "outputs": [
    {
     "name": "stdin",
     "output_type": "stream",
     "text": [
      "Enter number 34\n"
     ]
    },
    {
     "name": "stdout",
     "output_type": "stream",
     "text": [
      "The number is greater than 2\n"
     ]
    }
   ],
   "source": [
    "num = int(input(\"Enter number\"))\n",
    "if num > 2:\n",
    "    print(\"The number is greater than 2\")\n",
    "else:\n",
    "    print(\"The number is not greater than 2\")"
   ]
  },
  {
   "cell_type": "code",
   "execution_count": 5,
   "id": "fa023bf8-9467-4614-9770-882f9bba6ffe",
   "metadata": {},
   "outputs": [
    {
     "name": "stdin",
     "output_type": "stream",
     "text": [
      "Enter number 6\n"
     ]
    },
    {
     "name": "stdout",
     "output_type": "stream",
     "text": [
      "The number is not greater than 22\n"
     ]
    }
   ],
   "source": [
    "num = int(input(\"Enter number\"))\n",
    "if num >= 22:\n",
    "    print(\"The number is greater than 22\")\n",
    "else:\n",
    "    print(\"The number is not greater than 22\")"
   ]
  },
  {
   "cell_type": "code",
   "execution_count": 6,
   "id": "72ef6fe0-10fd-4afb-bb9e-6bef47eabbc4",
   "metadata": {},
   "outputs": [
    {
     "name": "stdin",
     "output_type": "stream",
     "text": [
      "Enter number 54\n"
     ]
    },
    {
     "name": "stdout",
     "output_type": "stream",
     "text": [
      "The number is not less than than 30\n"
     ]
    }
   ],
   "source": [
    "num = int(input(\"Enter number\"))\n",
    "if num < 30:\n",
    "    print(\"The number is less than 30\")\n",
    "else:\n",
    "    print(\"The number is not less than than 30\")"
   ]
  },
  {
   "cell_type": "code",
   "execution_count": 7,
   "id": "fd0f44ec-dc24-443e-86fb-6cf7ee1a6d44",
   "metadata": {},
   "outputs": [
    {
     "name": "stdin",
     "output_type": "stream",
     "text": [
      "Enter number 234\n"
     ]
    },
    {
     "name": "stdout",
     "output_type": "stream",
     "text": [
      "The number is  greater than 60\n"
     ]
    }
   ],
   "source": [
    "num = int(input(\"Enter number\"))\n",
    "if num <= 60:\n",
    "    print(\"The number is not greater than 60\")\n",
    "else:\n",
    "    print(\"The number is  greater than 60\")"
   ]
  },
  {
   "cell_type": "code",
   "execution_count": 8,
   "id": "5f1cb5a2-d182-4af1-896b-6fecc413de20",
   "metadata": {},
   "outputs": [
    {
     "name": "stdout",
     "output_type": "stream",
     "text": [
      "Inside the if block\n"
     ]
    }
   ],
   "source": [
    "b=False\n",
    "if not b:\n",
    "  print(\"Inside the if block\")\n",
    "else:\n",
    "  print(\"Inside the else block\")"
   ]
  },
  {
   "cell_type": "code",
   "execution_count": 9,
   "id": "d7ea1521-c3a9-4b2d-a1fa-4d769f1cef51",
   "metadata": {},
   "outputs": [
    {
     "name": "stdin",
     "output_type": "stream",
     "text": [
      "Enter number 23\n",
      "Enter number 43\n"
     ]
    },
    {
     "name": "stdout",
     "output_type": "stream",
     "text": [
      "And operator demo\n"
     ]
    }
   ],
   "source": [
    "#And operator \n",
    "num1 = int(input(\"Enter number\"))\n",
    "num2 = int(input(\"Enter number\"))\n",
    "if num1<num2 and 4<5:\n",
    "    print(\"And operator demo\")\n",
    "else:\n",
    "    print(\"And operator condition failed\")"
   ]
  },
  {
   "cell_type": "code",
   "execution_count": 10,
   "id": "89b691e7-a737-4bec-a9e7-97e60bc1b63b",
   "metadata": {},
   "outputs": [
    {
     "name": "stdin",
     "output_type": "stream",
     "text": [
      "Enter number 54\n",
      "Enter number 5412\n"
     ]
    },
    {
     "name": "stdout",
     "output_type": "stream",
     "text": [
      "Or operator demo\n"
     ]
    }
   ],
   "source": [
    "#OR operator \n",
    "num1 = int(input(\"Enter number\"))\n",
    "num2 = int(input(\"Enter number\"))\n",
    "if num1<num2 or 4<5:\n",
    "    print(\"Or operator demo\")\n",
    "else:\n",
    "    print(\"Or operator condition failed\")"
   ]
  },
  {
   "cell_type": "code",
   "execution_count": 17,
   "id": "2898542e-62ac-41d9-b7a4-40e4d734e928",
   "metadata": {},
   "outputs": [
    {
     "name": "stdin",
     "output_type": "stream",
     "text": [
      "Enter number 3\n"
     ]
    },
    {
     "name": "stdout",
     "output_type": "stream",
     "text": [
      "Number is odd\n"
     ]
    }
   ],
   "source": [
    "# Ternary operator\n",
    "num1 = int(input(\"Enter number\"))\n",
    "message = \"Number is even\"  if num1%2==0 else \"Number is odd\"\n",
    "print(message)\n"
   ]
  },
  {
   "cell_type": "code",
   "execution_count": 19,
   "id": "027697db-cf2e-4c81-a174-2901fda903b1",
   "metadata": {},
   "outputs": [
    {
     "name": "stdin",
     "output_type": "stream",
     "text": [
      "Enter a dish name: karahi\n"
     ]
    },
    {
     "name": "stdout",
     "output_type": "stream",
     "text": [
      "karahi is pakistani\n"
     ]
    }
   ],
   "source": [
    "indian=[\"samosa\",\"kachori\",\"dal\",\"naan\"]\n",
    "pakistani=[\"nihari\",\"paya\",\"karahi\"]\n",
    "bangladesi=[\"panta bhat\",\"chorchori\",\"fuchka\"]\n",
    "\n",
    "dish=input(\"Enter a dish name:\")\n",
    "\n",
    "if dish in indian:\n",
    "    print(f\"{dish} is Indian\")\n",
    "elif dish in pakistani:\n",
    "    print(f\"{dish} is pakistani\")\n",
    "elif dish in bangladesi:\n",
    "    print(f\"{dish} is bangladesi\")\n",
    "else:\n",
    "    print(f\"Based on my limited knowledge, I don't know which cuisine is {dish}\")"
   ]
  },
  {
   "cell_type": "code",
   "execution_count": null,
   "id": "4953d680-1d0a-415a-bae3-454230a78ef1",
   "metadata": {},
   "outputs": [],
   "source": []
  }
 ],
 "metadata": {
  "kernelspec": {
   "display_name": "Python 3 (ipykernel)",
   "language": "python",
   "name": "python3"
  },
  "language_info": {
   "codemirror_mode": {
    "name": "ipython",
    "version": 3
   },
   "file_extension": ".py",
   "mimetype": "text/x-python",
   "name": "python",
   "nbconvert_exporter": "python",
   "pygments_lexer": "ipython3",
   "version": "3.12.0"
  }
 },
 "nbformat": 4,
 "nbformat_minor": 5
}
