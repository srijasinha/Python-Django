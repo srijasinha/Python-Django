{
 "cells": [
  {
   "cell_type": "code",
   "execution_count": 4,
   "id": "84404739-6e37-4875-a466-9a134cd041c9",
   "metadata": {},
   "outputs": [
    {
     "name": "stdin",
     "output_type": "stream",
     "text": [
      "Enter base :  6\n",
      "Enter height :  8\n"
     ]
    },
    {
     "name": "stdout",
     "output_type": "stream",
     "text": [
      "The are aof triangkle is 24.0\n"
     ]
    }
   ],
   "source": [
    "# 1. Write a program that can find area of a triangle. It should take base and height as\n",
    "# an input from user and using that it should print an area of a triangle\n",
    "\n",
    "base = int(input(\"Enter base : \"))\n",
    "height = int(input(\"Enter height : \"))\n",
    "area = 1/2*(float(base*height))\n",
    "print(\"The are aof triangkle is\", area)"
   ]
  },
  {
   "cell_type": "code",
   "execution_count": 7,
   "id": "47adf9cb-f921-40d8-80e9-6b04bd9f62ba",
   "metadata": {},
   "outputs": [
    {
     "name": "stdin",
     "output_type": "stream",
     "text": [
      "Enter file name hfffffffffffffffffffffffffffffff.jhfy\n"
     ]
    },
    {
     "name": "stdout",
     "output_type": "stream",
     "text": [
      "File name without extension: hfffffffffffffffffffffffffffffff.\n"
     ]
    }
   ],
   "source": [
    "# 2. Write a program that takes file name with extension as an input and\n",
    "# prints just the file name without extension (you can assume that file extensions\n",
    "# are always 3 character long)\n",
    "file_name = input(\"Enter file name\")\n",
    "print(\"File name without extension:\",file_name[:len(file_name)-4])"
   ]
  },
  {
   "cell_type": "code",
   "execution_count": null,
   "id": "098b2468-1d81-4080-9291-45c37dd3181b",
   "metadata": {},
   "outputs": [],
   "source": []
  }
 ],
 "metadata": {
  "kernelspec": {
   "display_name": "Python 3 (ipykernel)",
   "language": "python",
   "name": "python3"
  },
  "language_info": {
   "codemirror_mode": {
    "name": "ipython",
    "version": 3
   },
   "file_extension": ".py",
   "mimetype": "text/x-python",
   "name": "python",
   "nbconvert_exporter": "python",
   "pygments_lexer": "ipython3",
   "version": "3.12.0"
  }
 },
 "nbformat": 4,
 "nbformat_minor": 5
}
