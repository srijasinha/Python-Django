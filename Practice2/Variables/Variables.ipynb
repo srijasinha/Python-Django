{
 "cells": [
  {
   "cell_type": "raw",
   "id": "6dc7c497-eaef-498d-b4d4-c42d1ae2523e",
   "metadata": {},
   "source": [
    "\n",
    "\n",
    "1. Create a variable called break and assign it a value 5. See what happens and find out the reason behind the behavior that you see\n"
   ]
  },
  {
   "cell_type": "code",
   "execution_count": 1,
   "id": "642ba67c-5cff-49a5-8e10-ecde3a9ff6b0",
   "metadata": {},
   "outputs": [
    {
     "ename": "SyntaxError",
     "evalue": "invalid syntax (2709188746.py, line 1)",
     "output_type": "error",
     "traceback": [
      "\u001b[1;36m  Cell \u001b[1;32mIn[1], line 1\u001b[1;36m\u001b[0m\n\u001b[1;33m    break = 5\u001b[0m\n\u001b[1;37m          ^\u001b[0m\n\u001b[1;31mSyntaxError\u001b[0m\u001b[1;31m:\u001b[0m invalid syntax\n"
     ]
    }
   ],
   "source": [
    "break = 5"
   ]
  },
  {
   "cell_type": "raw",
   "id": "ed970903-313f-4a95-ae61-ab24b3a85b17",
   "metadata": {},
   "source": [
    "\n",
    "\n",
    "2. Create two variables. One to store your birth year and another one to store current year. Now calculate your age using these two variables\n"
   ]
  },
  {
   "cell_type": "code",
   "execution_count": 11,
   "id": "dc548d58-53ff-4d05-a91d-d7fb70c75e8a",
   "metadata": {},
   "outputs": [
    {
     "data": {
      "text/plain": [
       "29"
      ]
     },
     "execution_count": 11,
     "metadata": {},
     "output_type": "execute_result"
    }
   ],
   "source": [
    "birth_year = 1995\n",
    "current_year = 2024\n",
    "age = current_year-birth_year\n",
    "age"
   ]
  },
  {
   "cell_type": "raw",
   "id": "3891fa37-abac-4502-8a88-5785c4306d0f",
   "metadata": {},
   "source": [
    "\n",
    "\n",
    "3. Store your first, middle and last name in three different variables and then print your full name using these variables\n"
   ]
  },
  {
   "cell_type": "code",
   "execution_count": 16,
   "id": "ab785727-78f0-4b79-97ab-ac2c8ce12aac",
   "metadata": {},
   "outputs": [
    {
     "data": {
      "text/plain": [
       "'My Name is: Srija Sinha'"
      ]
     },
     "execution_count": 16,
     "metadata": {},
     "output_type": "execute_result"
    }
   ],
   "source": [
    "first_name = \"Srija\"\n",
    "middle_name = \" \"\n",
    "last_name = \"Sinha\"\n",
    "Name = (\"My Name is: \" + first_name + middle_name + last_name)\n",
    "Name\n"
   ]
  },
  {
   "cell_type": "raw",
   "id": "a5866e97-934b-4bdd-8a41-de98cc9016af",
   "metadata": {},
   "source": [
    "\n",
    "\n",
    "4. Answer which of these are invalid variable names: \"_nation, 1record, record1, record_one, record-one, record^one, continue\"\n"
   ]
  },
  {
   "cell_type": "code",
   "execution_count": 18,
   "id": "455becde-2476-45b1-8b27-f3d8ff2ba4f9",
   "metadata": {},
   "outputs": [
    {
     "ename": "SyntaxError",
     "evalue": "invalid decimal literal (3767480148.py, line 1)",
     "output_type": "error",
     "traceback": [
      "\u001b[1;36m  Cell \u001b[1;32mIn[18], line 1\u001b[1;36m\u001b[0m\n\u001b[1;33m    _nation, 1record, record1, record_one, record-one, record^one, continue\u001b[0m\n\u001b[1;37m             ^\u001b[0m\n\u001b[1;31mSyntaxError\u001b[0m\u001b[1;31m:\u001b[0m invalid decimal literal\n"
     ]
    }
   ],
   "source": [
    "_nation, 1record, record1, record_one, record-one, record^one, continue"
   ]
  },
  {
   "cell_type": "code",
   "execution_count": null,
   "id": "99fb4452-c9da-4103-8597-b377918827c2",
   "metadata": {},
   "outputs": [],
   "source": []
  }
 ],
 "metadata": {
  "kernelspec": {
   "display_name": "Python 3 (ipykernel)",
   "language": "python",
   "name": "python3"
  },
  "language_info": {
   "codemirror_mode": {
    "name": "ipython",
    "version": 3
   },
   "file_extension": ".py",
   "mimetype": "text/x-python",
   "name": "python",
   "nbconvert_exporter": "python",
   "pygments_lexer": "ipython3",
   "version": "3.12.0"
  }
 },
 "nbformat": 4,
 "nbformat_minor": 5
}
