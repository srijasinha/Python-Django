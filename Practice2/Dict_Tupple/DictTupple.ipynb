{
 "cells": [
  {
   "cell_type": "code",
   "execution_count": 1,
   "id": "03563059-cceb-498e-9b58-806a4a04be5c",
   "metadata": {},
   "outputs": [
    {
     "data": {
      "text/plain": [
       "dict"
      ]
     },
     "execution_count": 1,
     "metadata": {},
     "output_type": "execute_result"
    }
   ],
   "source": [
    "#Dictionary allows to store key,value pairs. For example you want to represent cricket team names with their captain names. For this you can use dictionary\n",
    "\n",
    "\n",
    "captains = {\n",
    "    'india': 'virat',\n",
    "    'pakistan': 'sarfaraz',\n",
    "    'sri lanka': 'dimuth',\n",
    "}\n",
    "\n",
    "type(captains)"
   ]
  },
  {
   "cell_type": "code",
   "execution_count": 2,
   "id": "54d0cf0a-5230-40e0-ad0b-f6c30e20e54f",
   "metadata": {},
   "outputs": [
    {
     "data": {
      "text/plain": [
       "'virat'"
      ]
     },
     "execution_count": 2,
     "metadata": {},
     "output_type": "execute_result"
    }
   ],
   "source": [
    "captains['india']"
   ]
  },
  {
   "cell_type": "code",
   "execution_count": 3,
   "id": "20c000d4-2c4c-41b7-bfbe-51a2a1162c98",
   "metadata": {},
   "outputs": [
    {
     "data": {
      "text/plain": [
       "dict_keys(['india', 'pakistan', 'sri lanka'])"
      ]
     },
     "execution_count": 3,
     "metadata": {},
     "output_type": "execute_result"
    }
   ],
   "source": [
    "captains.keys()"
   ]
  },
  {
   "cell_type": "code",
   "execution_count": 4,
   "id": "b1bce676-a9f4-49f1-9757-b05545a7be28",
   "metadata": {},
   "outputs": [
    {
     "data": {
      "text/plain": [
       "dict_values(['virat', 'sarfaraz', 'dimuth'])"
      ]
     },
     "execution_count": 4,
     "metadata": {},
     "output_type": "execute_result"
    }
   ],
   "source": [
    "captains.values()"
   ]
  },
  {
   "cell_type": "code",
   "execution_count": 5,
   "id": "6e9bfcaf-3c79-458f-9097-1c2b5c942a23",
   "metadata": {},
   "outputs": [
    {
     "data": {
      "text/plain": [
       "{'india': 'virat',\n",
       " 'pakistan': 'sarfaraz',\n",
       " 'sri lanka': 'dimuth',\n",
       " 'england': 'srija'}"
      ]
     },
     "execution_count": 5,
     "metadata": {},
     "output_type": "execute_result"
    }
   ],
   "source": [
    "# Add new key pair value\n",
    "\n",
    "\n",
    "captains['england']='srija'\n",
    "captains"
   ]
  },
  {
   "cell_type": "code",
   "execution_count": 6,
   "id": "feec14ca-f778-4ec0-a422-c13ecb03003c",
   "metadata": {},
   "outputs": [],
   "source": [
    "del captains['england']"
   ]
  },
  {
   "cell_type": "code",
   "execution_count": 7,
   "id": "c3b9dec9-3f51-45a8-8bda-8a4168f3596a",
   "metadata": {},
   "outputs": [
    {
     "data": {
      "text/plain": [
       "{'india': 'virat', 'pakistan': 'sarfaraz', 'sri lanka': 'dimuth'}"
      ]
     },
     "execution_count": 7,
     "metadata": {},
     "output_type": "execute_result"
    }
   ],
   "source": [
    "captains"
   ]
  },
  {
   "cell_type": "code",
   "execution_count": 8,
   "id": "31cfa0de-cb97-4fdb-8d5b-70b710553550",
   "metadata": {},
   "outputs": [
    {
     "data": {
      "text/plain": [
       "{'india': 'virat',\n",
       " 'pakistan': 'sarfaraz',\n",
       " 'sri lanka': 'dimuth',\n",
       " 'england': 'srija'}"
      ]
     },
     "execution_count": 8,
     "metadata": {},
     "output_type": "execute_result"
    }
   ],
   "source": [
    "\n",
    "captains['england']='srija'\n",
    "captains"
   ]
  },
  {
   "cell_type": "code",
   "execution_count": 9,
   "id": "e11c7663-97a5-41b2-968c-879c30686d9a",
   "metadata": {},
   "outputs": [
    {
     "name": "stdout",
     "output_type": "stream",
     "text": [
      "india\n",
      "pakistan\n",
      "sri lanka\n",
      "england\n"
     ]
    }
   ],
   "source": [
    "# Iterate through dictionary on key\n",
    "\n",
    "for team in captains:\n",
    "    print(team)\n"
   ]
  },
  {
   "cell_type": "code",
   "execution_count": 10,
   "id": "c5154470-c904-433c-8f31-1416bf08f69c",
   "metadata": {},
   "outputs": [
    {
     "name": "stdout",
     "output_type": "stream",
     "text": [
      "india ==> virat\n",
      "pakistan ==> sarfaraz\n",
      "sri lanka ==> dimuth\n",
      "england ==> srija\n"
     ]
    }
   ],
   "source": [
    "# Iterate through dictionary on key- value\n",
    "\n",
    "for team in captains:\n",
    "    print(team,\"==>\",captains[team])\n"
   ]
  },
  {
   "cell_type": "code",
   "execution_count": 11,
   "id": "afa83d73-9853-47da-81cc-cbc2cf778d3e",
   "metadata": {},
   "outputs": [
    {
     "name": "stdout",
     "output_type": "stream",
     "text": [
      "india ==> virat\n",
      "pakistan ==> sarfaraz\n",
      "sri lanka ==> dimuth\n",
      "england ==> srija\n"
     ]
    }
   ],
   "source": [
    "for team, captain in captains.items():\n",
    "    print(team,\"==>\",captain)\n"
   ]
  },
  {
   "cell_type": "code",
   "execution_count": 12,
   "id": "8421febb-33df-4f3e-ae8e-173467673603",
   "metadata": {},
   "outputs": [
    {
     "data": {
      "text/plain": [
       "True"
      ]
     },
     "execution_count": 12,
     "metadata": {},
     "output_type": "execute_result"
    }
   ],
   "source": [
    "'india' in captains"
   ]
  },
  {
   "cell_type": "code",
   "execution_count": 13,
   "id": "f14e565d-a9e2-4503-91d2-68bfa86cab6f",
   "metadata": {},
   "outputs": [
    {
     "data": {
      "text/plain": [
       "{'age': 35, 'name': 'dhaval', 'id': 123}"
      ]
     },
     "execution_count": 13,
     "metadata": {},
     "output_type": "execute_result"
    }
   ],
   "source": [
    "e={}\n",
    "e['age']=35\n",
    "e['name']='dhaval'\n",
    "e['id']=123\n",
    "e"
   ]
  },
  {
   "cell_type": "code",
   "execution_count": 16,
   "id": "c9a54207-2874-4bc6-9a6c-2e8145bd01b3",
   "metadata": {},
   "outputs": [
    {
     "data": {
      "text/plain": [
       "tuple"
      ]
     },
     "execution_count": 16,
     "metadata": {},
     "output_type": "execute_result"
    }
   ],
   "source": [
    "point1=(4,10)\n",
    "type(point1)\n",
    "\n",
    "\n",
    "\n",
    "point=(5,16,5)\n",
    "type(point)\n",
    "\n"
   ]
  },
  {
   "cell_type": "code",
   "execution_count": 17,
   "id": "d9ed727f-9aae-4a80-bc5f-7fbfad03494d",
   "metadata": {},
   "outputs": [
    {
     "data": {
      "text/plain": [
       "5"
      ]
     },
     "execution_count": 17,
     "metadata": {},
     "output_type": "execute_result"
    }
   ],
   "source": [
    "point[0]"
   ]
  },
  {
   "cell_type": "code",
   "execution_count": 18,
   "id": "0848bdcb-8795-4cf9-a497-4bfef69c8d0c",
   "metadata": {},
   "outputs": [
    {
     "data": {
      "text/plain": [
       "16"
      ]
     },
     "execution_count": 18,
     "metadata": {},
     "output_type": "execute_result"
    }
   ],
   "source": [
    "point[1]"
   ]
  },
  {
   "cell_type": "code",
   "execution_count": 19,
   "id": "265c5b71-1cbd-4904-9f2c-49f00f18f8cf",
   "metadata": {},
   "outputs": [
    {
     "ename": "TypeError",
     "evalue": "'tuple' object does not support item assignment",
     "output_type": "error",
     "traceback": [
      "\u001b[1;31m---------------------------------------------------------------------------\u001b[0m",
      "\u001b[1;31mTypeError\u001b[0m                                 Traceback (most recent call last)",
      "Cell \u001b[1;32mIn[19], line 1\u001b[0m\n\u001b[1;32m----> 1\u001b[0m \u001b[43mpoint\u001b[49m\u001b[43m[\u001b[49m\u001b[38;5;241;43m0\u001b[39;49m\u001b[43m]\u001b[49m\u001b[38;5;241m=\u001b[39m \u001b[38;5;241m2\u001b[39m\n",
      "\u001b[1;31mTypeError\u001b[0m: 'tuple' object does not support item assignment"
     ]
    }
   ],
   "source": [
    "point[0]= 2"
   ]
  },
  {
   "cell_type": "code",
   "execution_count": 20,
   "id": "760c3d94-3dd5-4037-9fe2-a903e74589c7",
   "metadata": {},
   "outputs": [
    {
     "name": "stdout",
     "output_type": "stream",
     "text": [
      "s is 9 and m is 20\n"
     ]
    }
   ],
   "source": [
    "\n",
    "def add_multiply(a,b):\n",
    "    total = a+b\n",
    "    m = a*b\n",
    "    return total, m\n",
    "\n",
    "s, m = add_multiply(4,5)\n",
    "print(\"s is \" f'{s}' \" and m is \" f'{m}')\n"
   ]
  }
 ],
 "metadata": {
  "kernelspec": {
   "display_name": "Python 3 (ipykernel)",
   "language": "python",
   "name": "python3"
  },
  "language_info": {
   "codemirror_mode": {
    "name": "ipython",
    "version": 3
   },
   "file_extension": ".py",
   "mimetype": "text/x-python",
   "name": "python",
   "nbconvert_exporter": "python",
   "pygments_lexer": "ipython3",
   "version": "3.12.0"
  }
 },
 "nbformat": 4,
 "nbformat_minor": 5
}
