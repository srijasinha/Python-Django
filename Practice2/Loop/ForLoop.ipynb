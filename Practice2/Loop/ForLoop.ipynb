{
 "cells": [
  {
   "cell_type": "code",
   "execution_count": 1,
   "id": "b613ce4a-5b0f-4b07-82d5-3d8666744e08",
   "metadata": {},
   "outputs": [
    {
     "name": "stdout",
     "output_type": "stream",
     "text": [
      "0\n",
      "1\n",
      "2\n",
      "3\n",
      "4\n",
      "5\n",
      "6\n",
      "7\n",
      "8\n",
      "9\n",
      "10\n"
     ]
    }
   ],
   "source": [
    "# while loop\n",
    "n=0\n",
    "\n",
    "while n<=10:\n",
    "    print(n)\n",
    "    n=n+1"
   ]
  },
  {
   "cell_type": "code",
   "execution_count": 2,
   "id": "5a2a16be-6aee-4a0b-83c3-5606a9630d1d",
   "metadata": {},
   "outputs": [
    {
     "name": "stdout",
     "output_type": "stream",
     "text": [
      "Key not found in: sofa\n",
      "Key not found in: garage\n",
      "Key found at: chair\n"
     ]
    }
   ],
   "source": [
    "#Break demo\n",
    "key_location=\"chair\"\n",
    "locations = [\"sofa\",\"garage\",\"chair\",\"table\",\"closet\"]\n",
    "for loc in locations:\n",
    "    if loc == key_location:\n",
    "        print(\"Key found at:\",loc)\n",
    "        break\n",
    "    else:\n",
    "        print(\"Key not found in:\",loc)\n"
   ]
  },
  {
   "cell_type": "code",
   "execution_count": 3,
   "id": "cf48ef5b-e312-4735-ae8e-d29357276a64",
   "metadata": {},
   "outputs": [
    {
     "name": "stdout",
     "output_type": "stream",
     "text": [
      "The odd number 1\n",
      "The odd number 3\n",
      "The odd number 5\n",
      "The odd number 7\n",
      "The odd number 9\n"
     ]
    }
   ],
   "source": [
    "#continue: print odd numbers between 1 to 10\n",
    "for i in range(11):\n",
    "    if i%2==0:\n",
    "        continue\n",
    "    print(\"The odd number\",i)"
   ]
  },
  {
   "cell_type": "code",
   "execution_count": 4,
   "id": "636612a1-f817-4cbe-8c08-c66cd4ac99da",
   "metadata": {},
   "outputs": [
    {
     "name": "stdout",
     "output_type": "stream",
     "text": [
      "Total Expense 5700\n",
      "1200\n",
      "2700\n",
      "4000\n",
      "5700\n"
     ]
    }
   ],
   "source": [
    "#Foor loop\n",
    "expenses = [1200,1500,1300,1700]\n",
    "total = expenses[0] + expenses[1] + expenses[2] + expenses[3]\n",
    "print(\"Total Expense\",total)\n",
    "# expense total using for loop\n",
    "total = 0\n",
    "for i in expenses:\n",
    "    total = total+ i\n",
    "    print(total)\n"
   ]
  },
  {
   "cell_type": "code",
   "execution_count": 5,
   "id": "0f5fd8ea-75ff-470a-8fd3-ccc0d142cca1",
   "metadata": {},
   "outputs": [
    {
     "name": "stdout",
     "output_type": "stream",
     "text": [
      "Month 1, expense: 1200\n",
      "Month 2, expense: 1500\n",
      "Month 3, expense: 1300\n",
      "Month 4, expense: 1700\n",
      "Total expenses is 5700\n"
     ]
    }
   ],
   "source": [
    "# in monthly expense list print month number, expense and then total\n",
    "total = 0\n",
    "for i in range(len(expenses)):\n",
    "    print(f\"Month {i+1}, expense: {expenses[i]}\")\n",
    "    total += expenses[i]\n",
    "print(f\"Total expenses is {total}\")"
   ]
  },
  {
   "cell_type": "code",
   "execution_count": 6,
   "id": "0e16524e-4485-4c22-a87a-d9682ae2a3c1",
   "metadata": {},
   "outputs": [
    {
     "name": "stdout",
     "output_type": "stream",
     "text": [
      "range(1, 11)\n",
      "[1, 2, 3, 4, 5, 6, 7, 8, 9, 10]\n",
      "1\n",
      "2\n",
      "3\n",
      "4\n",
      "5\n",
      "6\n",
      "7\n",
      "8\n",
      "9\n",
      "10\n"
     ]
    }
   ],
   "source": [
    "# range() function\n",
    "s = range(1,11)\n",
    "print(s)\n",
    "print(list(s))\n",
    "for i in s:\n",
    "    print(i)"
   ]
  },
  {
   "cell_type": "code",
   "execution_count": null,
   "id": "1fd97dce-9980-47f5-8159-d21553372dbf",
   "metadata": {},
   "outputs": [],
   "source": []
  }
 ],
 "metadata": {
  "kernelspec": {
   "display_name": "Python 3 (ipykernel)",
   "language": "python",
   "name": "python3"
  },
  "language_info": {
   "codemirror_mode": {
    "name": "ipython",
    "version": 3
   },
   "file_extension": ".py",
   "mimetype": "text/x-python",
   "name": "python",
   "nbconvert_exporter": "python",
   "pygments_lexer": "ipython3",
   "version": "3.12.0"
  }
 },
 "nbformat": 4,
 "nbformat_minor": 5
}
