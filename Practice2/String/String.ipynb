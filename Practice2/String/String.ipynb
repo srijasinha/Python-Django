{
 "cells": [
  {
   "cell_type": "code",
   "execution_count": 1,
   "id": "6536b2ec-626b-44d0-ae6c-5f8c9583a13b",
   "metadata": {},
   "outputs": [
    {
     "name": "stdout",
     "output_type": "stream",
     "text": [
      "Lotus Apartment, 12 Meera Road, Ram Nagar\n",
      "14 M-1\n",
      "Pune\n",
      "India\n",
      "Lotus Apartment, 12 Meera Road, Ram Nagar\n",
      "14 M-1\n",
      "Pune\n",
      "India\n"
     ]
    }
   ],
   "source": [
    "# 1. Create 3 variables to store street, city and country, now create address variable to\n",
    "# store entire address. Use two ways of creating this variable, one using + operator and the other using f-string.\n",
    "# Now Print the address in such a way that the street, city and country prints in a separate line\n",
    "street = \"14 M-1\"\n",
    "city = \"Pune\"\n",
    "country =\"India\"\n",
    "Address = \"Lotus Apartment, 12 Meera Road, Ram Nagar\"\n",
    "Final_address = (Address+'\\n'+street +'\\n' + city+'\\n'+country)\n",
    "print(Final_address)\n",
    "\n",
    "f_Address = f'{Address}\\n{street}\\n{city}\\n{country}'\n",
    "print(f_Address)"
   ]
  },
  {
   "cell_type": "code",
   "execution_count": 14,
   "id": "db4c019a-c6fa-4099-9eb5-b170fc11bedb",
   "metadata": {},
   "outputs": [
    {
     "name": "stdout",
     "output_type": "stream",
     "text": [
      " revolves\n",
      "sun\n"
     ]
    }
   ],
   "source": [
    "# 2. Create a variable to store the string \"Earth revolves around the sun\"\n",
    "#     1. Print \"revolves\" using the slice operator\n",
    "#     2. Print \"sun\" using a negative index\n",
    "s = \"Earth revolves around the sun\"\n",
    "revolves = s[5:14]\n",
    "print(revolves)\n",
    "sun = s[-3:]\n",
    "print(sun)"
   ]
  },
  {
   "cell_type": "code",
   "execution_count": 24,
   "id": "c162c449-386d-4cda-b4b4-2fe90a192c8b",
   "metadata": {},
   "outputs": [
    {
     "name": "stdout",
     "output_type": "stream",
     "text": [
      "I eat Cabbage veggies and Apple fruits daily.\n"
     ]
    }
   ],
   "source": [
    "# 3. Create two variables to store how many fruits and vegetables you eat in a day.\n",
    "# Now Print \"I eat x veggies and y fruits daily\" where x and y presents vegetables and fruits that you eat everyday.\n",
    "# Use python f string for this.\n",
    "fruit =\"Apple\"\n",
    "Vegetables = \"Cabbage\"\n",
    "Fruit_eat =(f\"I eat {Vegetables} veggies and {fruit} fruits daily.\")\n",
    "print(Fruit_eat)"
   ]
  },
  {
   "cell_type": "code",
   "execution_count": 31,
   "id": "4285fd55-a7cc-4e08-9eef-080520f83587",
   "metadata": {},
   "outputs": [
    {
     "name": "stdout",
     "output_type": "stream",
     "text": [
      "Using two line replace: maine 10 samosa khaye\n"
     ]
    }
   ],
   "source": [
    "# 4. I have a string variable called s='maine 200 banana khaye'. This of course is a\n",
    "# wrong statement, the correct statement is 'maine 10 samosa khaye'.\n",
    "# Replace incorrect words in original strong with new ones and print the new string.\n",
    "# Also try to do this in one line\n",
    "\n",
    "s='maine 200 banana khaye'\n",
    "s = s.replace(\"200\",\"10\")\n",
    "s = s.replace(\"banana\", \"samosa\")\n",
    "print(\"Using two line replace:\",s)\n",
    "\n"
   ]
  },
  {
   "cell_type": "code",
   "execution_count": 32,
   "id": "211b8b25-41a8-4b91-b71b-2bbed3f03d2d",
   "metadata": {},
   "outputs": [
    {
     "name": "stdout",
     "output_type": "stream",
     "text": [
      "Using single line: maine 10 samosa khaye\n"
     ]
    }
   ],
   "source": [
    "s='maine 200 banana khaye'\n",
    "s=s.replace('banana','samosa').replace('200','10')\n",
    "print(\"Using single line:\",s)"
   ]
  }
 ],
 "metadata": {
  "kernelspec": {
   "display_name": "Python 3 (ipykernel)",
   "language": "python",
   "name": "python3"
  },
  "language_info": {
   "codemirror_mode": {
    "name": "ipython",
    "version": 3
   },
   "file_extension": ".py",
   "mimetype": "text/x-python",
   "name": "python",
   "nbconvert_exporter": "python",
   "pygments_lexer": "ipython3",
   "version": "3.12.0"
  }
 },
 "nbformat": 4,
 "nbformat_minor": 5
}
