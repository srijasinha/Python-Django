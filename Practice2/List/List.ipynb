{
 "cells": [
  {
   "cell_type": "code",
   "execution_count": 14,
   "id": "18d77c2c-433d-4c7f-a0c6-8fe520a503ef",
   "metadata": {},
   "outputs": [
    {
     "name": "stdout",
     "output_type": "stream",
     "text": [
      "[2200, 2350, 2600, 2130, 2190]\n",
      "In feb this much extra was spent compared to jan: 150\n",
      "Expense for first quarter: 7150\n",
      "Did I spent 2000$ in any month?  False\n",
      "Expenses at the end of June: [2200, 2350, 2600, 2130, 2190, 1980]\n",
      "Expenses after 200$ return in April: 1930\n"
     ]
    }
   ],
   "source": [
    "# 1. Let us say your expense for every month are listed below,\n",
    "# \t1. January -  2200\n",
    "#  \t2. February - 2350\n",
    "#     3. March - 2600\n",
    "#     4. April - 2130\n",
    "#     5. May - 2190\n",
    "#\n",
    "# Create a list to store these monthly expenses and using that find out,\n",
    "#\n",
    "# 1. In Feb, how many dollars you spent extra compare to January?\n",
    "# 2. Find out your total expense in first quarter (first three months) of the year.\n",
    "# 3. Find out if you spent exactly 2000 dollars in any month\n",
    "# 4. June month just finished and your expense is 1980 dollar. Add this item to our monthly expense list\n",
    "# 5. You returned an item that you bought in a month of April and\n",
    "# got a refund of 200$. Make a correction to your monthly expense list\n",
    "\n",
    "Exp = [2200,2350,2600,2130,2190]\n",
    "print(Exp)\n",
    "Feb_Exp = print(\"In feb this much extra was spent compared to jan:\",Exp[1]- Exp[0])\n",
    "print(\"Expense for first quarter:\",Exp[0]+Exp[1]+Exp[2])\n",
    "print(\"Did I spent 2000$ in any month? \", 2000 in Exp)\n",
    "Exp.append(1980)\n",
    "print(\"Expenses at the end of June:\",Exp)\n",
    "Money_return = Exp[3]- 200\n",
    "print(\"Expenses after 200$ return in April:\",Money_return)"
   ]
  },
  {
   "cell_type": "code",
   "execution_count": 34,
   "id": "a017d082-da69-48da-ad51-a33e25eaf2ba",
   "metadata": {},
   "outputs": [
    {
     "name": "stdout",
     "output_type": "stream",
     "text": [
      "5\n",
      "['spider man', 'thor', 'hulk', 'iron man', 'captain america', 'black panther']\n",
      "['spider man', 'thor', 'hulk', 'iron man', 'captain america']\n",
      "['spider man', 'thor', 'hulk', 'black panther', 'iron man', 'captain america']\n",
      "['thor', 'hulk']\n",
      "['spider man', 'doctor strange', 'black panther', 'iron man', 'captain america']\n",
      "['black panther', 'captain america', 'doctor strange', 'iron man', 'spider man']\n"
     ]
    }
   ],
   "source": [
    "'''You have a list of your favourite marvel super heros.\n",
    "\n",
    "heros=['spider man','thor','hulk','iron man','captain america']\n",
    "\n",
    "Using this find out,\n",
    "\n",
    "1. Length of the list\n",
    "2. Add 'black panther' at the end of this list\n",
    "3. You realize that you need to add 'black panther' after 'hulk',\n",
    "   so remove it from the list first and then add it after 'hulk'\n",
    "4. Now you don't like thor and hulk because they get angry easily :)\n",
    "   So you want to remove thor and hulk from list and replace them with doctor strange (because he is cool).\n",
    "   Do that with one line of code.\n",
    "5. Sort the heros list in alphabetical order (Hint. Use dir() functions to list down all functions available in list)'''\n",
    "\n",
    "\n",
    "heros=['spider man','thor','hulk','iron man','captain america']\n",
    "l = len(heros)\n",
    "print(l)\n",
    "heros.append(\"black panther\")\n",
    "print(heros)\n",
    "heros.remove(\"black panther\")\n",
    "print(heros)\n",
    "heros.insert(3,\"black panther\")\n",
    "print(heros)\n",
    "print(heros[1:3])\n",
    "heros[1:3]=['doctor strange']\n",
    "print(heros)\n",
    "heros.sort()\n",
    "print(heros)\n"
   ]
  },
  {
   "cell_type": "code",
   "execution_count": null,
   "id": "4d58c27e-cd64-4aba-a7d8-76172a6ba1d8",
   "metadata": {},
   "outputs": [],
   "source": []
  }
 ],
 "metadata": {
  "kernelspec": {
   "display_name": "Python 3 (ipykernel)",
   "language": "python",
   "name": "python3"
  },
  "language_info": {
   "codemirror_mode": {
    "name": "ipython",
    "version": 3
   },
   "file_extension": ".py",
   "mimetype": "text/x-python",
   "name": "python",
   "nbconvert_exporter": "python",
   "pygments_lexer": "ipython3",
   "version": "3.12.0"
  }
 },
 "nbformat": 4,
 "nbformat_minor": 5
}
